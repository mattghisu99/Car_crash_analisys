{
 "cells": [
  {
   "metadata": {},
   "cell_type": "markdown",
   "source": "### IMPORT FUNZIONI DA SPARK_MODELS",
   "id": "2c2faed0ab8798f5"
  },
  {
   "cell_type": "code",
   "id": "initial_id",
   "metadata": {
    "collapsed": true,
    "ExecuteTime": {
     "end_time": "2025-06-26T09:46:17.120824Z",
     "start_time": "2025-06-26T09:46:15.017844Z"
    }
   },
   "source": "from spark_models import *",
   "outputs": [],
   "execution_count": 1
  },
  {
   "metadata": {},
   "cell_type": "markdown",
   "source": "### CREAZIONE SPARK SESSION",
   "id": "94cb2865ef1a8595"
  },
  {
   "metadata": {
    "ExecuteTime": {
     "end_time": "2025-06-26T09:46:27.377920Z",
     "start_time": "2025-06-26T09:46:19.362857Z"
    }
   },
   "cell_type": "code",
   "source": [
    "spark_session=initialize_spark_session()\n",
    "print(\"Sessione Spark creata.\")"
   ],
   "id": "85ad749c3210faaf",
   "outputs": [
    {
     "name": "stdout",
     "output_type": "stream",
     "text": [
      "Sessione Spark creata.\n"
     ]
    }
   ],
   "execution_count": 2
  },
  {
   "metadata": {},
   "cell_type": "markdown",
   "source": "### CARICAMENTO DATI",
   "id": "724e4592af09840a"
  },
  {
   "metadata": {
    "ExecuteTime": {
     "end_time": "2025-06-26T09:46:39.001800Z",
     "start_time": "2025-06-26T09:46:30.114969Z"
    }
   },
   "cell_type": "code",
   "source": [
    "crash_data=load_data(spark_session,\"dataset/Traffic_Crashes_cleaned.csv\")\n",
    "crash_data.show(5)"
   ],
   "id": "b7ff507421c96122",
   "outputs": [
    {
     "name": "stdout",
     "output_type": "stream",
     "text": [
      "+---------------+------------------+----------------------+------------------+-----------------+------------------+------------------+--------------------+---------+--------------------+-----------+-----------+--------------------+-------------+--------------------+-----------------------+---------+----------------+-----------+------------------+---------+--------------------+--------------+----------+-----------------+-----------+------------+-------------+----+\n",
      "|CRASH_RECORD_ID|POSTED_SPEED_LIMIT|TRAFFIC_CONTROL_DEVICE|  DEVICE_CONDITION|WEATHER_CONDITION|LIGHTING_CONDITION|  FIRST_CRASH_TYPE|     TRAFFICWAY_TYPE|ALIGNMENT|ROADWAY_SURFACE_COND|ROAD_DEFECT|REPORT_TYPE|          CRASH_TYPE|       DAMAGE|DATE_POLICE_NOTIFIED|PRIM_CONTRIBUTORY_CAUSE|STREET_NO|STREET_DIRECTION|STREET_NAME|BEAT_OF_OCCURRENCE|NUM_UNITS|  MOST_SEVERE_INJURY|INJURIES_TOTAL|CRASH_HOUR|CRASH_DAY_OF_WEEK|CRASH_MONTH|    LATITUDE|    LONGITUDE|YEAR|\n",
      "+---------------+------------------+----------------------+------------------+-----------------+------------------+------------------+--------------------+---------+--------------------+-----------+-----------+--------------------+-------------+--------------------+-----------------------+---------+----------------+-----------+------------------+---------+--------------------+--------------+----------+-----------------+-----------+------------+-------------+----+\n",
      "|              0|          under 30|      NO/UNKNOWN/OTHER|       FUNCTIONING|     CLEAR_CLOUDY|          DAYLIGHT|          Rear End|OTHER_OR_UNKOWN_T...| STRAIGHT|                 DRY|  NO DEFECT|   ON SCENE|INJURY AND / OR T...|  OVER $1,500|08/18/2023 12:55:...|   Distance / Following|      700|               W|   OHARE ST|            1654.0|        2|NONINCAPACITATING...|             1|     12-17|           Friday|     August|        NULL|         NULL|2023|\n",
      "|              1|           over 30|  ACTIVE SIGNAL CON...|       FUNCTIONING|     CLEAR_CLOUDY|          DAYLIGHT|    Parked Vehicle|   MAIN_ROADWAY_FLOW| STRAIGHT|                 DRY|  NO DEFECT|   ON SCENE|NO INJURY / DRIVE...|  OVER $1,500|07/29/2023 02:45:...|          Speed-Related|     2101|               S|ASHLAND AVE|            1235.0|      3-5|NO INDICATION OF ...|             0|     12-17|         Saturday|       July|41.854120263|-87.665902343|2023|\n",
      "|              2|           over 30|      NO/UNKNOWN/OTHER|UNKNOWN OR MISSING|     CLEAR_CLOUDY|          DAYLIGHT|   Vulnerable User|   MAIN_ROADWAY_FLOW| STRAIGHT|                 DRY|  NO DEFECT|   ON SCENE|INJURY AND / OR T...|$501 - $1,500|08/18/2023 06:01:...|          Speed-Related|     3422|               N|   LONG AVE|            1633.0|        2|NONINCAPACITATING...|             1|     12-17|           Friday|     August|41.942975745|-87.761883497|2023|\n",
      "|              3|          under 30|      NO/UNKNOWN/OTHER|UNKNOWN OR MISSING|     CLEAR_CLOUDY|          DAYLIGHT|   Vulnerable User|      ONE_WAY_STREET|    CURVE|                 DRY|  NO DEFECT|   ON SCENE|INJURY AND / OR T...|  OVER $1,500|11/26/2019 08:38:...|   Indeterminate / I...|        5|               W|TERMINAL ST|            1655.0|        2|               FATAL|             1|      6-11|          Tuesday|   November|        NULL|         NULL|2019|\n",
      "|              4|          under 30|      NO/UNKNOWN/OTHER|UNKNOWN OR MISSING|     CLEAR_CLOUDY|          DAYLIGHT|Fixed/Other Object|OTHER_OR_UNKOWN_T...| STRAIGHT|                 DRY|  NO DEFECT|   ON SCENE|NO INJURY / DRIVE...|  OVER $1,500|08/18/2023 10:48:...|   Distance / Following|        3|               W|TERMINAL ST|            1653.0|        1|NO INDICATION OF ...|             0|      6-11|           Friday|     August|        NULL|         NULL|2023|\n",
      "+---------------+------------------+----------------------+------------------+-----------------+------------------+------------------+--------------------+---------+--------------------+-----------+-----------+--------------------+-------------+--------------------+-----------------------+---------+----------------+-----------+------------------+---------+--------------------+--------------+----------+-----------------+-----------+------------+-------------+----+\n",
      "only showing top 5 rows\n",
      "\n"
     ]
    }
   ],
   "execution_count": 3
  },
  {
   "metadata": {},
   "cell_type": "markdown",
   "source": "### STRING INDEXING",
   "id": "58c2277b20d578a0"
  },
  {
   "metadata": {
    "ExecuteTime": {
     "end_time": "2025-06-26T09:47:02.240821Z",
     "start_time": "2025-06-26T09:46:42.489135Z"
    }
   },
   "cell_type": "code",
   "source": "indexed_data, indexer_model = apply_string_indexing(crash_data)",
   "id": "d67b78c2b74b4ea4",
   "outputs": [],
   "execution_count": 4
  },
  {
   "metadata": {
    "ExecuteTime": {
     "end_time": "2025-06-26T09:47:05.059397Z",
     "start_time": "2025-06-26T09:47:04.366928Z"
    }
   },
   "cell_type": "code",
   "source": "indexed_data.show(5)",
   "id": "7504368f69b3f10f",
   "outputs": [
    {
     "name": "stdout",
     "output_type": "stream",
     "text": [
      "+------------------------+----------------------------+----------------------+-----------------------+------------------------+----------------+---------------------+---------------+--------------------------+-----------------+-----------------+------------+-----------------------------+----------------------+---------------+------------------------+--------------------+----------------+-----------------------+-----------------+----------+------+\n",
      "|POSTED_SPEED_LIMIT_index|TRAFFIC_CONTROL_DEVICE_index|DEVICE_CONDITION_index|WEATHER_CONDITION_index|LIGHTING_CONDITION_index|CRASH_TYPE_index|TRAFFICWAY_TYPE_index|ALIGNMENT_index|ROADWAY_SURFACE_COND_index|ROAD_DEFECT_index|REPORT_TYPE_index|DAMAGE_index|PRIM_CONTRIBUTORY_CAUSE_index|STREET_DIRECTION_index|NUM_UNITS_index|MOST_SEVERE_INJURY_index|INJURIES_TOTAL_index|CRASH_HOUR_index|CRASH_DAY_OF_WEEK_index|CRASH_MONTH_index|YEAR_index|target|\n",
      "+------------------------+----------------------------+----------------------+-----------------------+------------------------+----------------+---------------------+---------------+--------------------------+-----------------+-----------------+------------+-----------------------------+----------------------+---------------+------------------------+--------------------+----------------+-----------------------+-----------------+----------+------+\n",
      "|                     1.0|                         0.0|                   1.0|                    0.0|                     0.0|             1.0|                  4.0|            0.0|                       0.0|              0.0|              1.0|         0.0|                          3.0|                   0.0|            0.0|                     1.0|                 1.0|             0.0|                    0.0|              2.0|       3.0|   1.0|\n",
      "|                     0.0|                         1.0|                   1.0|                    0.0|                     0.0|             0.0|                  0.0|            0.0|                       0.0|              0.0|              1.0|         0.0|                          4.0|                   1.0|            1.0|                     0.0|                 0.0|             0.0|                    1.0|              4.0|       3.0|   2.0|\n",
      "|                     0.0|                         0.0|                   0.0|                    0.0|                     0.0|             1.0|                  0.0|            0.0|                       0.0|              0.0|              1.0|         1.0|                          4.0|                   2.0|            0.0|                     1.0|                 1.0|             0.0|                    0.0|              2.0|       3.0|   5.0|\n",
      "|                     1.0|                         0.0|                   0.0|                    0.0|                     0.0|             1.0|                  1.0|            1.0|                       0.0|              0.0|              1.0|         0.0|                          0.0|                   0.0|            0.0|                     4.0|                 1.0|             1.0|                    3.0|              5.0|       1.0|   5.0|\n",
      "|                     1.0|                         0.0|                   0.0|                    0.0|                     0.0|             0.0|                  4.0|            0.0|                       0.0|              0.0|              1.0|         0.0|                          3.0|                   0.0|            2.0|                     0.0|                 0.0|             1.0|                    0.0|              2.0|       3.0|   4.0|\n",
      "+------------------------+----------------------------+----------------------+-----------------------+------------------------+----------------+---------------------+---------------+--------------------------+-----------------+-----------------+------------+-----------------------------+----------------------+---------------+------------------------+--------------------+----------------+-----------------------+-----------------+----------+------+\n",
      "only showing top 5 rows\n",
      "\n"
     ]
    }
   ],
   "execution_count": 5
  },
  {
   "metadata": {},
   "cell_type": "markdown",
   "source": "### VETTORIZZAZIONE",
   "id": "e5bb2ded04f38612"
  },
  {
   "metadata": {
    "ExecuteTime": {
     "end_time": "2025-06-26T09:50:58.356689Z",
     "start_time": "2025-06-26T09:50:57.587296Z"
    }
   },
   "cell_type": "code",
   "source": [
    "vectorized_df,feature_names = vectorize_features(indexed_data)\n",
    "vectorized_df.show(5)"
   ],
   "id": "f6d335899a43e46e",
   "outputs": [
    {
     "name": "stdout",
     "output_type": "stream",
     "text": [
      "+--------------------+------+\n",
      "|            features|target|\n",
      "+--------------------+------+\n",
      "|(21,[0,2,5,6,10,1...|   1.0|\n",
      "|(21,[1,2,10,12,13...|   2.0|\n",
      "|(21,[5,10,11,12,1...|   5.0|\n",
      "|(21,[0,5,6,7,10,1...|   5.0|\n",
      "|(21,[0,6,10,12,14...|   4.0|\n",
      "+--------------------+------+\n",
      "only showing top 5 rows\n",
      "\n"
     ]
    }
   ],
   "execution_count": 9
  },
  {
   "metadata": {},
   "cell_type": "markdown",
   "source": "### SPLIT DATAFRAME (0,7-0,3)",
   "id": "db5d879318a969de"
  },
  {
   "metadata": {},
   "cell_type": "markdown",
   "source": "",
   "id": "928c675f121062df"
  },
  {
   "metadata": {
    "ExecuteTime": {
     "end_time": "2025-06-26T09:51:30.003548Z",
     "start_time": "2025-06-26T09:51:29.970016Z"
    }
   },
   "cell_type": "code",
   "source": "train_df, test_df = split_data(vectorized_df)",
   "id": "6f4324f19b70a925",
   "outputs": [],
   "execution_count": 10
  },
  {
   "metadata": {},
   "cell_type": "markdown",
   "source": "### MULTICLASS LOGISTIC REGRESSION",
   "id": "edb65103145b31bf"
  },
  {
   "metadata": {
    "ExecuteTime": {
     "end_time": "2025-06-26T09:55:40.207486Z",
     "start_time": "2025-06-26T09:51:55.234067Z"
    }
   },
   "cell_type": "code",
   "source": [
    "accuracy = train_logistic_regression_cv(train_df, test_df)\n",
    "\n",
    "print(f\"Accuracy sul test set: {accuracy:.4f}\")"
   ],
   "id": "24c9ef3e57960f22",
   "outputs": [
    {
     "name": "stdout",
     "output_type": "stream",
     "text": [
      "Accuracy sul test set: 0.5029\n"
     ]
    }
   ],
   "execution_count": 11
  },
  {
   "metadata": {},
   "cell_type": "markdown",
   "source": "### RANDOM FOREST CLASSIFIER (WITH FEATURE IMPORTANCE)",
   "id": "d7794501b98ad599"
  },
  {
   "metadata": {
    "ExecuteTime": {
     "start_time": "2025-06-26T09:57:37.497114Z"
    }
   },
   "cell_type": "code",
   "source": [
    "accuracy= train_random_forest_cv(train_df, test_df,feature_names=feature_names) \n",
    "print(f\"Accuracy finale:{accuracy:.4f}\")"
   ],
   "id": "34088bcacd7fb29a",
   "outputs": [],
   "execution_count": null
  },
  {
   "metadata": {},
   "cell_type": "markdown",
   "source": "# ECOC METHOD",
   "id": "a401d5a85d96287"
  },
  {
   "metadata": {},
   "cell_type": "markdown",
   "source": "## Import",
   "id": "24e7a481eb18bfd5"
  },
  {
   "metadata": {
    "ExecuteTime": {
     "end_time": "2025-07-07T16:04:37.149048Z",
     "start_time": "2025-07-07T16:04:34.548610Z"
    }
   },
   "cell_type": "code",
   "source": "from ecoc_method import *",
   "id": "e81dc41c79e6e73d",
   "outputs": [],
   "execution_count": 1
  },
  {
   "metadata": {},
   "cell_type": "markdown",
   "source": "### Definizione parametri ",
   "id": "51de35c1fb6b315a"
  },
  {
   "metadata": {
    "ExecuteTime": {
     "end_time": "2025-07-07T16:04:43.583561Z",
     "start_time": "2025-07-07T16:04:43.576554Z"
    }
   },
   "cell_type": "code",
   "source": [
    "FILEPATH = 'dataset/Traffic_Crashes_cleaned.csv'\n",
    "TARGET_COLUMN = 'FIRST_CRASH_TYPE'\n",
    "COLUMNS_TO_KEEP = [\n",
    "    'POSTED_SPEED_LIMIT', 'TRAFFIC_CONTROL_DEVICE', 'DEVICE_CONDITION',\n",
    "    'WEATHER_CONDITION', 'LIGHTING_CONDITION', 'ROADWAY_SURFACE_COND',\n",
    "    'ROAD_DEFECT', 'CRASH_TYPE', 'NUM_UNITS', 'CRASH_HOUR',\n",
    "    'CRASH_DAY_OF_WEEK', 'CRASH_MONTH', 'FIRST_CRASH_TYPE'\n",
    "]"
   ],
   "id": "bfc1856a0ef53811",
   "outputs": [],
   "execution_count": 2
  },
  {
   "metadata": {},
   "cell_type": "markdown",
   "source": "### Caricamento dati e preparazione preliminare dati",
   "id": "5da2632764a84e96"
  },
  {
   "metadata": {
    "ExecuteTime": {
     "end_time": "2025-07-07T16:04:58.558198Z",
     "start_time": "2025-07-07T16:04:50.166610Z"
    }
   },
   "cell_type": "code",
   "source": [
    "raw_dataframe = load_crash_data(FILEPATH, COLUMNS_TO_KEEP)\n",
    "X_raw, y_raw = clean_crash_target_and_separate_xy(raw_dataframe, TARGET_COLUMN)"
   ],
   "id": "9d3478ef70e7a50f",
   "outputs": [
    {
     "name": "stdout",
     "output_type": "stream",
     "text": [
      "Trovati 559 valori mancanti nel target. Le righe corrispondenti verranno rimosse.\n"
     ]
    }
   ],
   "execution_count": 3
  },
  {
   "metadata": {},
   "cell_type": "markdown",
   "source": "### Suddivisione dei dati",
   "id": "e7d0ab7cfca58839"
  },
  {
   "metadata": {
    "ExecuteTime": {
     "end_time": "2025-07-07T16:05:02.922553Z",
     "start_time": "2025-07-07T16:05:01.532570Z"
    }
   },
   "cell_type": "code",
   "source": "X_train_raw, X_test_raw, y_train_raw, y_test_raw = split_data(X_raw, y_raw)",
   "id": "bfc4ae6628bd8a69",
   "outputs": [],
   "execution_count": 4
  },
  {
   "metadata": {},
   "cell_type": "markdown",
   "source": "### Preprocessing",
   "id": "35d7f43da3a3886e"
  },
  {
   "metadata": {
    "ExecuteTime": {
     "end_time": "2025-07-07T16:05:07.361801Z",
     "start_time": "2025-07-07T16:05:04.988921Z"
    }
   },
   "cell_type": "code",
   "source": [
    "preprocessor = CrashDataPreprocessor()\n",
    "X_train_proc, X_test_proc, y_train_enc, y_test_enc, label_encoder = preprocessor.prepare_for_modelling(\n",
    "    X_train_raw, X_test_raw, y_train_raw, y_test_raw\n",
    ")"
   ],
   "id": "5649fbf8ce364bf7",
   "outputs": [],
   "execution_count": 5
  },
  {
   "metadata": {},
   "cell_type": "markdown",
   "source": "### Inizializzazione e Addestramento",
   "id": "54fa3d67515c41b0"
  },
  {
   "metadata": {
    "ExecuteTime": {
     "end_time": "2025-07-07T16:21:03.562280Z",
     "start_time": "2025-07-07T16:05:10.217572Z"
    }
   },
   "cell_type": "code",
   "source": [
    "from sklearn.linear_model import LogisticRegression\n",
    "base_estimator = LogisticRegression(\n",
    "    random_state=42, \n",
    "    solver='saga',    \n",
    "    max_iter=2000,      \n",
    "    n_jobs=1,\n",
    "    class_weight='balanced',\n",
    "    C=1.0\n",
    ")\n",
    "ecoc_model = ECOCClassifier(\n",
    "    base_estimator_instance=base_estimator,\n",
    "    n_jobs=1,  \n",
    "    code_size=2.0\n",
    "    )\n",
    "ecoc_model.train(X_train_proc, y_train_enc)"
   ],
   "id": "1c68b8e1bda35c30",
   "outputs": [],
   "execution_count": 6
  },
  {
   "metadata": {},
   "cell_type": "markdown",
   "source": "",
   "id": "d5edd834f3d31a33"
  },
  {
   "metadata": {},
   "cell_type": "markdown",
   "source": "### Valutazione modello",
   "id": "aa220fbfa8d30433"
  },
  {
   "metadata": {},
   "cell_type": "code",
   "source": [
    "class_names = label_encoder.classes_\n",
    "confusion_mat = ecoc_model.evaluate(X_test_proc, y_test_enc, class_names=class_names)\n",
    "ecoc_model.plot_confusion_matrix(confusion_mat, class_names=class_names)"
   ],
   "id": "aa7f9074b9e071db",
   "outputs": [],
   "execution_count": null
  }
 ],
 "metadata": {
  "kernelspec": {
   "display_name": "Python 3",
   "language": "python",
   "name": "python3"
  },
  "language_info": {
   "codemirror_mode": {
    "name": "ipython",
    "version": 2
   },
   "file_extension": ".py",
   "mimetype": "text/x-python",
   "name": "python",
   "nbconvert_exporter": "python",
   "pygments_lexer": "ipython2",
   "version": "2.7.6"
  }
 },
 "nbformat": 4,
 "nbformat_minor": 5
}
